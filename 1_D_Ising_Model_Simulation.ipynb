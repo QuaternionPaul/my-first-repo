{
  "nbformat": 4,
  "nbformat_minor": 0,
  "metadata": {
    "colab": {
      "provenance": [],
      "authorship_tag": "ABX9TyMz+OCBX6LWVQOYJllYF0fr",
      "include_colab_link": true
    },
    "kernelspec": {
      "name": "python3",
      "display_name": "Python 3"
    },
    "language_info": {
      "name": "python"
    }
  },
  "cells": [
    {
      "cell_type": "markdown",
      "metadata": {
        "id": "view-in-github",
        "colab_type": "text"
      },
      "source": [
        "<a href=\"https://colab.research.google.com/github/QuaternionPaul/my-first-repo/blob/main/1_D_Ising_Model_Simulation.ipynb\" target=\"_parent\"><img src=\"https://colab.research.google.com/assets/colab-badge.svg\" alt=\"Open In Colab\"/></a>"
      ]
    },
    {
      "cell_type": "markdown",
      "source": [
        "# CS267A Project"
      ],
      "metadata": {
        "id": "ieGdLg0FNen1"
      }
    },
    {
      "cell_type": "markdown",
      "source": [
        "# Simulation of the 1-D Ising Model"
      ],
      "metadata": {
        "id": "1ir6kUQ1KWsg"
      }
    },
    {
      "cell_type": "markdown",
      "source": [
        "The code for this simulation of the 1-D Ising Model/Ising Chain was adapted from [here](https://hockygroup.hosting.nyu.edu/exercise/ising-1d.html) [2].\n",
        "\n",
        "The goal of this investigation was to demonstrate that the computationally expensive Markov Chain Monte Carlo (MCMC) step (for the Metropolis-Hastings algorithm) could be simply replaced by a probabilistic programming language (PPL) with similar results. Otherwise we use the same visualization backend and framework to display and compare the results.\n",
        "\n",
        "In the first half of this notebook, we look at an implementation of the 1-D Ising chain from scratch without the use of a PPL. We show that even for the (relatively simple) Metropolis-Hastings MCMC algorithm, this is a rather complex affair. We also explore the expected physical behaviour of the 1-D Ising chain high/low temperature regimes.\n",
        "\n",
        "In the second half, we build upon this framework by reimplementing the entire 1-D Ising Chain model with MCMC step in a PPL, namely PyMC3. We show that we can get similar results with much simpler and fewer lines of code in the PPL, demonstrating the potential of PPLs to speedup workflows when modeling probabilistic pehnomena. Our PPL implementation of the 1-D Ising chain also behaves as expected in the high/low temperature regimes."
      ],
      "metadata": {
        "id": "Gj96T28FKeZM"
      }
    },
    {
      "cell_type": "code",
      "execution_count": null,
      "metadata": {
        "colab": {
          "base_uri": "https://localhost:8080/"
        },
        "id": "R4giCmmDCh7k",
        "outputId": "4cf3e6b7-9417-4740-c949-24c42c23d105"
      },
      "outputs": [
        {
          "output_type": "stream",
          "name": "stdout",
          "text": [
            "Populating the interactive namespace from numpy and matplotlib\n",
            "time: 7.18 ms (started: 2023-06-16 08:11:46 +00:00)\n"
          ]
        },
        {
          "output_type": "stream",
          "name": "stderr",
          "text": [
            "/usr/local/lib/python3.10/dist-packages/IPython/core/magics/pylab.py:159: UserWarning: pylab import has clobbered these variables: ['step', 'trace']\n",
            "`%matplotlib` prevents importing * from pylab and numpy\n",
            "  warn(\"pylab import has clobbered these variables: %s\"  % clobbered +\n"
          ]
        }
      ],
      "source": [
        "#setup the notebook\n",
        "%pylab inline\n",
        "import numpy as np\n"
      ]
    },
    {
      "cell_type": "markdown",
      "source": [
        "We generate a few simple 1-D Ising chains, specified to be of length 10 (aka 10 lattice sites).\n",
        "\n",
        "As a convention, we choose **+1** to denote **spin-up** and **-1** to denote **spin-down** spins."
      ],
      "metadata": {
        "id": "NlRq7JNtKSnM"
      }
    },
    {
      "cell_type": "code",
      "source": [
        "def energy_ising_1d(configuration,J,h):\n",
        "    num_spins = len(configuration)\n",
        "    energy = 0.0\n",
        "    for i in range(num_spins):\n",
        "        spini = configuration[i]\n",
        "        #set the value of spin i+1, make sure to test if i+1<num_spins, and otherwise account for periodic boundaries\n",
        "        #you can do this with an if statement if you have to\n",
        "        ip1 = (i+1)%num_spins\n",
        "        spinip1 = configuration[ip1]\n",
        "\n",
        "        energy = energy - J * (spini * spinip1) - h*spini\n",
        "\n",
        "    return energy\n",
        "\n",
        "#Check that the energy is correct\n",
        "test_num_spins = 10\n",
        "#this should be true for any J, h\n",
        "test_J = 1\n",
        "test_h = 2\n",
        "\n",
        "test_configuration_1 = -1*np.ones(test_num_spins)\n",
        "test_configuration_2 = +1*np.ones(test_num_spins)\n",
        "\n",
        "test_configuration_3 = +1*np.ones(test_num_spins)\n",
        "#this sets even entries to -1\n",
        "test_configuration_3[::2] = -1\n",
        "\n",
        "print(\"Test Config 1:\", test_configuration_1)\n",
        "print(\"Energy Config 1:\", energy_ising_1d(test_configuration_1,test_J,test_h))\n",
        "print(\"Expected Energy Config 1:\",test_num_spins*(test_h-test_J))\n",
        "print()\n",
        "print(\"Test Config 2:\", test_configuration_2)\n",
        "print(\"Energy Config 2:\", energy_ising_1d(test_configuration_2,test_J,test_h))\n",
        "print(\"Expected Energy Config 2:\",-test_num_spins*(test_h+test_J))\n",
        "print()\n",
        "print(\"Test Config 3:\", test_configuration_3)\n",
        "print(\"Energy Config 3:\", energy_ising_1d(test_configuration_3,test_J,test_h))\n",
        "print(\"Expected Energy Config 3:\",test_num_spins*test_J)"
      ],
      "metadata": {
        "colab": {
          "base_uri": "https://localhost:8080/"
        },
        "id": "7_HDOvrlFUHv",
        "outputId": "db65fd81-72ed-49df-ba15-3050682b6027"
      },
      "execution_count": null,
      "outputs": [
        {
          "output_type": "stream",
          "name": "stdout",
          "text": [
            "Test Config 1: [-1. -1. -1. -1. -1. -1. -1. -1. -1. -1.]\n",
            "Energy Config 1: 10.0\n",
            "Expected Energy Config 1: 10\n",
            "\n",
            "Test Config 2: [1. 1. 1. 1. 1. 1. 1. 1. 1. 1.]\n",
            "Energy Config 2: -30.0\n",
            "Expected Energy Config 2: -30\n",
            "\n",
            "Test Config 3: [-1.  1. -1.  1. -1.  1. -1.  1. -1.  1.]\n",
            "Energy Config 3: 10.0\n",
            "Expected Energy Config 3: 10\n",
            "time: 1.99 ms (started: 2023-06-16 08:11:47 +00:00)\n"
          ]
        }
      ]
    },
    {
      "cell_type": "markdown",
      "source": [
        "# Section 1\n",
        "## Monte Carlo Simulation using Metropolis-Hastings algorithm (Non-PPL)\n",
        "\n",
        "N.B: The below code was adapted from [here](https://hockygroup.hosting.nyu.edu/exercise/ising-1d.html) [2], solely for comparision purposes to show how the Metropolis-Hastings algorithm can be implemented manually without the use of a PPL.\n",
        "\n",
        "We analyse the 1-D Ising chain using Monte Carlo simulation, but first without using a PPL. The Metropolis-Hastings MCMC algorithm is performed in selecting whether or not to flip individual spin-flips.\n",
        "\n",
        "We also explore how the 1-D Ising chains behave under low and high temperature regimes, and see if the simulated behaviour agrees with theory."
      ],
      "metadata": {
        "id": "f6DG9IcRXwT9"
      }
    },
    {
      "cell_type": "code",
      "source": [
        "\n",
        "\n",
        "#set a seed for the random number generator here. For a given seed, all of your results should be identical\n",
        "random_seed = 1\n",
        "np.random.seed(random_seed)\n",
        "\n",
        "def energy_difference(J, h, si, sleft, sright):\n",
        "    #fill in the formula for the energy difference from flipping spin i,\n",
        "    #which has value si= 1 or -1, with spin values sleft and sright on the left and right\n",
        "    dE = 2*h*si + 2*J*si*(sleft+sright)\n",
        "    return dE\n",
        "\n",
        "def metropolis_mc_fast(n_steps, n_lattice_sites, beta, J, h, debug=False,save_freq=10):\n",
        "    # we can start with a random configuration of size n_lattice_sites by generating a random list\n",
        "    #    of zeros and twos, then subtracting 1, the following does that, do you see why? Play around\n",
        "    #   with this function in an empty box if you don't\n",
        "    configuration = 2*np.random.randint(2, size=n_lattice_sites) - 1\n",
        "    average_spins = []\n",
        "\n",
        "    if debug is True:\n",
        "        print(\"Starting configuration:\",configuration)\n",
        "\n",
        "    current_energy = energy_ising_1d(configuration,J,h)\n",
        "    for i in range(n_steps):\n",
        "\n",
        "        #set this like you did above:\n",
        "        spin_to_change = np.random.randint(n_lattice_sites)\n",
        "\n",
        "        si = configuration[spin_to_change]\n",
        "        #now figure out the values of the spin to the left and the spin to the right, remembering\n",
        "        #  to take into account periodic boundary conditions for both\n",
        "        # you can use if statements if you have to\n",
        "        sright = configuration[(spin_to_change+1)%n_lattice_sites]\n",
        "        sleft = configuration[(spin_to_change-1)%n_lattice_sites]\n",
        "\n",
        "        dE = energy_difference(J,h,si,sleft,sright)\n",
        "\n",
        "        r = np.random.random()\n",
        "        # fill in the metropolis critereon, using dE\n",
        "        if r<min(1,np.exp(-beta*(dE))) :\n",
        "            #flip the spin\n",
        "            configuration[spin_to_change]*=-1\n",
        "            # update the energy\n",
        "            current_energy += dE\n",
        "        else:\n",
        "            pass\n",
        "\n",
        "        #this computes the average spin\n",
        "        average_spin = configuration.mean()\n",
        "\n",
        "        if i%save_freq == 0:\n",
        "            average_spins.append(average_spin)\n",
        "\n",
        "        if debug and i%10==0:\n",
        "            print(\"%i: \"%i,configuration,\"Energy:\",current_energy,\"Spin:\",average_spin)\n",
        "\n",
        "    return average_spins\n",
        "\n",
        "#do a test high temperature simulation\n",
        "print(\"High temperature:\")\n",
        "average_spins = metropolis_mc_fast(n_steps=100, n_lattice_sites=10, beta=0.1, J=1, h=2, debug=True)\n",
        "#do a test on a low temperature simulation\n",
        "print(\"Low temperature:\")\n",
        "average_spins = metropolis_mc_fast(n_steps=100, n_lattice_sites=10, beta=1, J=1, h=2, debug=True)\n",
        "\n"
      ],
      "metadata": {
        "colab": {
          "base_uri": "https://localhost:8080/"
        },
        "id": "Bdbjd5wHFrOZ",
        "outputId": "e438f634-5034-4d0b-9624-cb92920cd15d"
      },
      "execution_count": null,
      "outputs": [
        {
          "output_type": "stream",
          "name": "stdout",
          "text": [
            "High temperature:\n",
            "Starting configuration: [ 1  1 -1 -1  1  1  1  1  1 -1]\n",
            "0:  [-1  1 -1 -1  1  1  1  1  1 -1] Energy: -6.0 Spin: 0.2\n",
            "10:  [-1  1  1 -1 -1  1  1  1  1  1] Energy: -10.0 Spin: 0.4\n",
            "20:  [ 1 -1  1  1  1 -1  1 -1  1  1] Energy: -6.0 Spin: 0.4\n",
            "30:  [ 1 -1 -1  1  1  1 -1 -1  1  1] Energy: -6.0 Spin: 0.2\n",
            "40:  [-1 -1 -1 -1  1  1  1 -1 -1  1] Energy: 2.0 Spin: -0.2\n",
            "50:  [-1  1 -1  1 -1  1 -1 -1 -1 -1] Energy: 10.0 Spin: -0.4\n",
            "60:  [-1  1  1  1  1  1  1  1  1 -1] Energy: -18.0 Spin: 0.6\n",
            "70:  [-1 -1 -1 -1 -1 -1  1 -1  1 -1] Energy: 10.0 Spin: -0.6\n",
            "80:  [ 1  1  1  1 -1 -1  1  1 -1 -1] Energy: -6.0 Spin: 0.2\n",
            "90:  [-1  1  1 -1  1 -1 -1  1  1 -1] Energy: 2.0 Spin: 0.0\n",
            "Low temperature:\n",
            "Starting configuration: [-1 -1  1 -1 -1 -1  1 -1  1  1]\n",
            "0:  [ 1 -1  1 -1 -1 -1  1 -1  1  1] Energy: 2.0 Spin: 0.0\n",
            "10:  [ 1 -1  1  1  1  1  1  1  1  1] Energy: -22.0 Spin: 0.8\n",
            "20:  [1 1 1 1 1 1 1 1 1 1] Energy: -30.0 Spin: 1.0\n",
            "30:  [1 1 1 1 1 1 1 1 1 1] Energy: -30.0 Spin: 1.0\n",
            "40:  [1 1 1 1 1 1 1 1 1 1] Energy: -30.0 Spin: 1.0\n",
            "50:  [1 1 1 1 1 1 1 1 1 1] Energy: -30.0 Spin: 1.0\n",
            "60:  [1 1 1 1 1 1 1 1 1 1] Energy: -30.0 Spin: 1.0\n",
            "70:  [1 1 1 1 1 1 1 1 1 1] Energy: -30.0 Spin: 1.0\n",
            "80:  [1 1 1 1 1 1 1 1 1 1] Energy: -30.0 Spin: 1.0\n",
            "90:  [1 1 1 1 1 1 1 1 1 1] Energy: -30.0 Spin: 1.0\n",
            "time: 32.4 ms (started: 2023-06-16 08:11:50 +00:00)\n"
          ]
        }
      ]
    },
    {
      "cell_type": "code",
      "source": [],
      "metadata": {
        "id": "U1zivnsWMYQ9"
      },
      "execution_count": null,
      "outputs": []
    },
    {
      "cell_type": "markdown",
      "source": [
        "**Remarks:**\n",
        "\n",
        "The generated 1-D Ising chains' behaviour agree well with theory, under the low and high temperature regimes [1]. At low temperatures, the spins are all aligned (all spin-up, +1) and the spin-chain is highly ordered. At high temperatures, the stronger thermal excitations can randomly excite and flip individual spins, leading to a very disordered chain (random spin-up and spin-down, +1 or -1).\n",
        "\n",
        "It is clear that the above non-probabilistic code is highly non-optimised with multiple nested for-loops, and probably would scale poorly in terms of computation as the length of the 1-D Ising chain (n_lattice_site) and number of simulated steps (n_steps) are increased. Additionally the implementation of even a relatively simple Metropolis-Hastings MCMC algorithm was not straight-forward. For more advanced/complicated MCMC methods like No U-Turn Sampling (NUTS) or Hamiltonian Monte Carlo (HMC), such methods may be very difficult and tme-consuming to implement from scratch.\n",
        "\n",
        " In the following segment, we build upon this framework to replicate this basic simulation of a 1-D Ising chain, albeit in a novel implementation using a PPL, namely PyMC3. We show that using a PPL results in much cleaner and simpler code, by moving the inference steps to be computed automatically in the backend and allowing the user to focus entirely on the modeling of the probabilistic system using PPL library functions.\n"
      ],
      "metadata": {
        "id": "3l1r5q6v31T6"
      }
    },
    {
      "cell_type": "markdown",
      "source": [
        "#Section 2\n",
        "\n",
        "#Simulation of 1-D Ising Chain using a PPL (PyMC3)"
      ],
      "metadata": {
        "id": "1uh9ssDy3gbC"
      }
    },
    {
      "cell_type": "markdown",
      "source": [
        "The following code adapts ideas from [here](https://tanyaschlusser.github.io/posts/mcmc-and-the-ising-model/), where a visualisation of the phase transition in the 2-D Ising model using the PyMC3 PPL is shown.\n",
        "\n",
        "However we build upon this to make several novel technical contributions:\n",
        "\n",
        "(1) extending the original 2-D framework to demonstrate how PyMC3 can be applied in the novel context of a 1-D Ising Chain.\n",
        "\n",
        "(2) extending the total Hamiltonian to also consider the energy from interaction with a non-zero external magnetic field $h$\n",
        "\n",
        "In this regard, the original code simplified the Hamiltonian by ignoring $\\mathscr{H}^{1}_{Ext}$. We modify the function to be able to calculate the energy changes by including this new term in the total 1-D Hamiltonian:\n",
        "\n",
        "\\begin{equation}\n",
        "    \\mathscr{H}_{1D} = \\mathscr{H}^{1}_{NN} + \\mathscr{H}^{1}_{Ext} = \\sum \\limits^{N-1} \\limits_{i=0} - J\\sigma_{i}\\cdot\\sigma_{i+1} - h\\cdot\\sigma_{i}\n",
        "\\end{equation}\n",
        "\n",
        "(3) refactor the implementation to use supported versions of the PyTensor and PyMC3 libraries. The original code used the Theano library, which has been discontinued in 2020 and had issues with being installed due to source errors.\n",
        "\n",
        "We show that our implementation (in a PPL) is much shorter and simpler (in terms of lines of code) than the equivalent non-probabilistic code, with vectorized functions provided under the PyMC3 library removing the need for multiple-nesting of for loops as in the non-probabilistic implementation. The PyMC3 implementation also demonstrates expected features and behaviour for a 1-D Ising Chain, in good agreement with the non-probabilistic implementation above."
      ],
      "metadata": {
        "id": "Iy5AfkCbFq6b"
      }
    },
    {
      "cell_type": "code",
      "execution_count": null,
      "metadata": {
        "id": "BPUIZ8aaR3NU"
      },
      "outputs": [],
      "source": [
        "from functools import partial\n",
        "\n",
        "import pymc as pm\n",
        "import numpy as np\n",
        "import pytensor.tensor as pt"
      ]
    },
    {
      "cell_type": "code",
      "source": [
        "def convert_spins (spins):\n",
        "\n",
        "  # Bernoulli distributions outputs array of 1s and 0s\n",
        "  # This fn converts original spins-array of 1s and 0s -> 1s and -1s\n",
        "  # +1 represents spin-up, -1 represents spin-down\n",
        "\n",
        "  proper = 2*spins - 1\n",
        "\n",
        "  return proper\n",
        "\n",
        "\n",
        "def get_H_NN(spins, J=1):\n",
        "\n",
        "  # Calculate nearest-neighbour interaction Hamiltonian, H_NN\n",
        "\n",
        "  spins_p = convert_spins(spins)\n",
        "\n",
        "  H_NN = - J*(\n",
        "  pt.roll(spins_p, 1, axis=0) * spins +\n",
        "  pt.roll(spins_p, -1, axis=0) * spins\n",
        "  )\n",
        "  return H_NN\n",
        "\n",
        "def get_H_Ext(spins, h=1):\n",
        "\n",
        "  # Calculate external magnetic field interaction Hamiltonian, H_Ext\n",
        "\n",
        "  H_ext = -h*spins\n",
        "\n",
        "  return H_ext\n",
        "\n",
        "def get_boltz_weight(spins, T=1):\n",
        "\n",
        "  spins_p = convert_spins(spins)\n",
        "\n",
        "  H_total = get_H_NN(spins) + get_H_Ext(spins)\n",
        "\n",
        "  # WLOG, assume Boltzmann constant k_B = 1\n",
        "  boltzmann_weight = pm.math.exp(-H_total/T)\n",
        "\n",
        "  return boltzmann_weight\n"
      ],
      "metadata": {
        "id": "DOn-CNMeW6pt"
      },
      "execution_count": null,
      "outputs": []
    },
    {
      "cell_type": "markdown",
      "source": [
        "PyMC3 is a Python-based package that is focused on probabilistic machine learning and Bayesian modeling.\n",
        "\n",
        "PyMC3 allows users access to a rich library of vectorized functions and statistical packages, that makes statistical inference tasks much more straight-forward and faster as compared to manual implementation. PyMC3 offers good support and access to powerful MCMC algorithms (Metropolis-Hastings, Sequential Monte Carlo, Hamiltonian Monte Carlo etc) and variational inference methods.\n",
        "\n",
        "This opens up exciting possibilities for users to gain access to powerful new statistical methods such as No U-Turn Sampling (NUTS) with just a single function call from PyMC3, greatly speeding up programming workflows.\n",
        "\n",
        "In the following, we demonstrate how the Metropolis-Hastings algorithm for Monte Carlo simulation of the 1-D Ising chain can just be built in a simple PyMC3.Model() class, with just a few lines of code.\n",
        "\n",
        "The below snippet is an annotated version of our pymc.Model() which explains each relevant line of code in detail."
      ],
      "metadata": {
        "id": "ghX7yFgiGltD"
      }
    },
    {
      "cell_type": "code",
      "source": [
        "basic_model = pm.Model()\n",
        "\n",
        "\n",
        "with basic_model as model:\n",
        "  T=100 # Temperature T will be defined as an argument in wrapper function.\n",
        "\n",
        "  # Use the Bernoulli Distribution, to generate Binary random variables\n",
        "  # Outputs an array of random 1s & 0s, array of shape/length 10\n",
        "  y = pm.Bernoulli('y', 0.5, shape=10)\n",
        "\n",
        "  # pm.Potential is summed and added to the overall log-likelihood.\n",
        "  # This conditions the MCMC chain on the given argument function, which is the Boltzmann weighting\n",
        "  boltz_weight = pm.Potential('b', -(get_H_NN(convert_spins(y)) + get_H_Ext(convert_spins(y)))/T )\n",
        "\n",
        "  # `scaling` limits/control the fraction of positions in `x`\n",
        "  # that flip at every step in the Markov Chain, to prevent over/under convergence\n",
        "  # From the PyMC3 source:\n",
        "  #     p_jump = 1. - .5 ** self.scaling\n",
        "  #     ...\n",
        "  #     switch_locs = (rand_array < p_jump)\n",
        "  # The scaling hyperparameter was chosen to be 0.08 as we found it to give good results\n",
        "  scaling = 0.08\n",
        "\n",
        "  # PyMC3 allows us to conveniently choose the MCMC sampler method by calling the  supported function.\n",
        "  # Other supported MCMC methods include Sequential MC, Hamiltonian MC, NUTS, can be just called directly\n",
        "  step = pm.BinaryMetropolis([y], scaling=scaling)\n",
        "\n",
        "  # Run the sample, store all outputs in trace\n",
        "  trace = pm.sample(5000, step=step, return_inferencedata=False)"
      ],
      "metadata": {
        "colab": {
          "base_uri": "https://localhost:8080/",
          "height": 57
        },
        "id": "PaSO0fadF4Ei",
        "outputId": "bbde42b9-849c-4ef1-82f9-9cf8673c7af9"
      },
      "execution_count": null,
      "outputs": [
        {
          "output_type": "display_data",
          "data": {
            "text/plain": [
              "<IPython.core.display.HTML object>"
            ],
            "text/html": [
              "\n",
              "<style>\n",
              "    /* Turns off some styling */\n",
              "    progress {\n",
              "        /* gets rid of default border in Firefox and Opera. */\n",
              "        border: none;\n",
              "        /* Needs to be in here for Safari polyfill so background images work as expected. */\n",
              "        background-size: auto;\n",
              "    }\n",
              "    progress:not([value]), progress:not([value])::-webkit-progress-bar {\n",
              "        background: repeating-linear-gradient(45deg, #7e7e7e, #7e7e7e 10px, #5c5c5c 10px, #5c5c5c 20px);\n",
              "    }\n",
              "    .progress-bar-interrupted, .progress-bar-interrupted::-webkit-progress-bar {\n",
              "        background: #F44336;\n",
              "    }\n",
              "</style>\n"
            ]
          },
          "metadata": {}
        },
        {
          "output_type": "display_data",
          "data": {
            "text/plain": [
              "<IPython.core.display.HTML object>"
            ],
            "text/html": [
              "\n",
              "    <div>\n",
              "      <progress value='6000' class='' max='6000' style='width:300px; height:20px; vertical-align: middle;'></progress>\n",
              "      100.00% [6000/6000 00:01&lt;00:00 Sampling chain 0, 0 divergences]\n",
              "    </div>\n",
              "    "
            ]
          },
          "metadata": {}
        },
        {
          "output_type": "display_data",
          "data": {
            "text/plain": [
              "<IPython.core.display.HTML object>"
            ],
            "text/html": [
              "\n",
              "<style>\n",
              "    /* Turns off some styling */\n",
              "    progress {\n",
              "        /* gets rid of default border in Firefox and Opera. */\n",
              "        border: none;\n",
              "        /* Needs to be in here for Safari polyfill so background images work as expected. */\n",
              "        background-size: auto;\n",
              "    }\n",
              "    progress:not([value]), progress:not([value])::-webkit-progress-bar {\n",
              "        background: repeating-linear-gradient(45deg, #7e7e7e, #7e7e7e 10px, #5c5c5c 10px, #5c5c5c 20px);\n",
              "    }\n",
              "    .progress-bar-interrupted, .progress-bar-interrupted::-webkit-progress-bar {\n",
              "        background: #F44336;\n",
              "    }\n",
              "</style>\n"
            ]
          },
          "metadata": {}
        },
        {
          "output_type": "display_data",
          "data": {
            "text/plain": [
              "<IPython.core.display.HTML object>"
            ],
            "text/html": [
              "\n",
              "    <div>\n",
              "      <progress value='6000' class='' max='6000' style='width:300px; height:20px; vertical-align: middle;'></progress>\n",
              "      100.00% [6000/6000 00:01&lt;00:00 Sampling chain 1, 0 divergences]\n",
              "    </div>\n",
              "    "
            ]
          },
          "metadata": {}
        }
      ]
    },
    {
      "cell_type": "markdown",
      "source": [
        "We embed this PyMC3 model within a wrapper function **ppl_approach()**, that allows us to conveniently invoke and perform inference on (n_steps) number of MCMC steps, on 1-D Ising chains of arbitrary length (n_lattice_sites).\n",
        "\n",
        "---\n",
        "\n"
      ],
      "metadata": {
        "id": "JUD8wFmqGxET"
      }
    },
    {
      "cell_type": "code",
      "source": [
        "def ppl_approach(n_steps, n_lattice_sites, T, J=1, h=0, save_freq=10):\n",
        "\n",
        "  basic_model = pm.Model()\n",
        "\n",
        "  with basic_model as model:\n",
        "    y = pm.Bernoulli('y', 0.5, shape=n_lattice_sites)\n",
        "\n",
        "    boltz_weight = pm.Potential('b', -(get_H_NN(convert_spins(y)) + get_H_Ext(convert_spins(y)))/T )\n",
        "\n",
        "    scaling = 0.008\n",
        "\n",
        "    step = pm.BinaryMetropolis([y], scaling=scaling)\n",
        "\n",
        "    trace = pm.sample(n_steps, step=step, return_inferencedata=False)\n",
        "\n",
        "  output = 2*trace[\"y\"][::save_freq*2]-1\n",
        "  print(output)\n"
      ],
      "metadata": {
        "id": "YqC44qj_IFZx"
      },
      "execution_count": null,
      "outputs": []
    },
    {
      "cell_type": "markdown",
      "source": [
        "We call the function to take n_steps = 5000 iterations of the MCMC algorithm, to quickly generate 5000 instances of 10-site 1-D Ising chains.\n",
        "\n",
        "By default, PyMC3 samples two independent MCMC chains, in order to ensure convergence. One can change the number of chains by passing the \"sample =\" argument in the **sample()** function.\n",
        "\n",
        "(The API note for the sample function is from: https://www.pymc.io/projects/docs/en/stable/api/generated/pymc.sample.html)"
      ],
      "metadata": {
        "id": "oU9LFVC6G2f2"
      }
    },
    {
      "cell_type": "code",
      "source": [
        "print(\"Low Temperature: \")\n",
        "\n",
        "ppl_approach( 5000, 10, T=1, J=1, h=1, save_freq = 500)"
      ],
      "metadata": {
        "colab": {
          "base_uri": "https://localhost:8080/",
          "height": 259
        },
        "id": "2FJqQvaJNL0j",
        "outputId": "615dac21-7cb5-49f4-8f7a-1a3c8f0bb643"
      },
      "execution_count": null,
      "outputs": [
        {
          "output_type": "stream",
          "name": "stdout",
          "text": [
            "Low Temperature: \n"
          ]
        },
        {
          "output_type": "display_data",
          "data": {
            "text/plain": [
              "<IPython.core.display.HTML object>"
            ],
            "text/html": [
              "\n",
              "<style>\n",
              "    /* Turns off some styling */\n",
              "    progress {\n",
              "        /* gets rid of default border in Firefox and Opera. */\n",
              "        border: none;\n",
              "        /* Needs to be in here for Safari polyfill so background images work as expected. */\n",
              "        background-size: auto;\n",
              "    }\n",
              "    progress:not([value]), progress:not([value])::-webkit-progress-bar {\n",
              "        background: repeating-linear-gradient(45deg, #7e7e7e, #7e7e7e 10px, #5c5c5c 10px, #5c5c5c 20px);\n",
              "    }\n",
              "    .progress-bar-interrupted, .progress-bar-interrupted::-webkit-progress-bar {\n",
              "        background: #F44336;\n",
              "    }\n",
              "</style>\n"
            ]
          },
          "metadata": {}
        },
        {
          "output_type": "display_data",
          "data": {
            "text/plain": [
              "<IPython.core.display.HTML object>"
            ],
            "text/html": [
              "\n",
              "    <div>\n",
              "      <progress value='6000' class='' max='6000' style='width:300px; height:20px; vertical-align: middle;'></progress>\n",
              "      100.00% [6000/6000 00:01&lt;00:00 Sampling chain 0, 0 divergences]\n",
              "    </div>\n",
              "    "
            ]
          },
          "metadata": {}
        },
        {
          "output_type": "display_data",
          "data": {
            "text/plain": [
              "<IPython.core.display.HTML object>"
            ],
            "text/html": [
              "\n",
              "<style>\n",
              "    /* Turns off some styling */\n",
              "    progress {\n",
              "        /* gets rid of default border in Firefox and Opera. */\n",
              "        border: none;\n",
              "        /* Needs to be in here for Safari polyfill so background images work as expected. */\n",
              "        background-size: auto;\n",
              "    }\n",
              "    progress:not([value]), progress:not([value])::-webkit-progress-bar {\n",
              "        background: repeating-linear-gradient(45deg, #7e7e7e, #7e7e7e 10px, #5c5c5c 10px, #5c5c5c 20px);\n",
              "    }\n",
              "    .progress-bar-interrupted, .progress-bar-interrupted::-webkit-progress-bar {\n",
              "        background: #F44336;\n",
              "    }\n",
              "</style>\n"
            ]
          },
          "metadata": {}
        },
        {
          "output_type": "display_data",
          "data": {
            "text/plain": [
              "<IPython.core.display.HTML object>"
            ],
            "text/html": [
              "\n",
              "    <div>\n",
              "      <progress value='6000' class='' max='6000' style='width:300px; height:20px; vertical-align: middle;'></progress>\n",
              "      100.00% [6000/6000 00:01&lt;00:00 Sampling chain 1, 0 divergences]\n",
              "    </div>\n",
              "    "
            ]
          },
          "metadata": {}
        },
        {
          "output_type": "stream",
          "name": "stdout",
          "text": [
            "[[1 1 1 1 1 1 1 1 1 1]\n",
            " [1 1 1 1 1 1 1 1 1 1]\n",
            " [1 1 1 1 1 1 1 1 1 1]\n",
            " [1 1 1 1 1 1 1 1 1 1]\n",
            " [1 1 1 1 1 1 1 1 1 1]\n",
            " [1 1 1 1 1 1 1 1 1 1]\n",
            " [1 1 1 1 1 1 1 1 1 1]\n",
            " [1 1 1 1 1 1 1 1 1 1]\n",
            " [1 1 1 1 1 1 1 1 1 1]\n",
            " [1 1 1 1 1 1 1 1 1 1]]\n"
          ]
        }
      ]
    },
    {
      "cell_type": "code",
      "source": [
        "print(\"High Temperature: \")\n",
        "\n",
        "ppl_approach( 5000, 10, T=10, J=1, h=1, save_freq = 500)\n"
      ],
      "metadata": {
        "colab": {
          "base_uri": "https://localhost:8080/",
          "height": 259
        },
        "id": "nuVZCw6OIkR0",
        "outputId": "bc9a13fe-aeef-4f14-9d55-ad217f2172c3"
      },
      "execution_count": null,
      "outputs": [
        {
          "output_type": "stream",
          "name": "stdout",
          "text": [
            "High Temperature: \n"
          ]
        },
        {
          "output_type": "display_data",
          "data": {
            "text/plain": [
              "<IPython.core.display.HTML object>"
            ],
            "text/html": [
              "\n",
              "<style>\n",
              "    /* Turns off some styling */\n",
              "    progress {\n",
              "        /* gets rid of default border in Firefox and Opera. */\n",
              "        border: none;\n",
              "        /* Needs to be in here for Safari polyfill so background images work as expected. */\n",
              "        background-size: auto;\n",
              "    }\n",
              "    progress:not([value]), progress:not([value])::-webkit-progress-bar {\n",
              "        background: repeating-linear-gradient(45deg, #7e7e7e, #7e7e7e 10px, #5c5c5c 10px, #5c5c5c 20px);\n",
              "    }\n",
              "    .progress-bar-interrupted, .progress-bar-interrupted::-webkit-progress-bar {\n",
              "        background: #F44336;\n",
              "    }\n",
              "</style>\n"
            ]
          },
          "metadata": {}
        },
        {
          "output_type": "display_data",
          "data": {
            "text/plain": [
              "<IPython.core.display.HTML object>"
            ],
            "text/html": [
              "\n",
              "    <div>\n",
              "      <progress value='6000' class='' max='6000' style='width:300px; height:20px; vertical-align: middle;'></progress>\n",
              "      100.00% [6000/6000 00:01&lt;00:00 Sampling chain 0, 0 divergences]\n",
              "    </div>\n",
              "    "
            ]
          },
          "metadata": {}
        },
        {
          "output_type": "display_data",
          "data": {
            "text/plain": [
              "<IPython.core.display.HTML object>"
            ],
            "text/html": [
              "\n",
              "<style>\n",
              "    /* Turns off some styling */\n",
              "    progress {\n",
              "        /* gets rid of default border in Firefox and Opera. */\n",
              "        border: none;\n",
              "        /* Needs to be in here for Safari polyfill so background images work as expected. */\n",
              "        background-size: auto;\n",
              "    }\n",
              "    progress:not([value]), progress:not([value])::-webkit-progress-bar {\n",
              "        background: repeating-linear-gradient(45deg, #7e7e7e, #7e7e7e 10px, #5c5c5c 10px, #5c5c5c 20px);\n",
              "    }\n",
              "    .progress-bar-interrupted, .progress-bar-interrupted::-webkit-progress-bar {\n",
              "        background: #F44336;\n",
              "    }\n",
              "</style>\n"
            ]
          },
          "metadata": {}
        },
        {
          "output_type": "display_data",
          "data": {
            "text/plain": [
              "<IPython.core.display.HTML object>"
            ],
            "text/html": [
              "\n",
              "    <div>\n",
              "      <progress value='6000' class='' max='6000' style='width:300px; height:20px; vertical-align: middle;'></progress>\n",
              "      100.00% [6000/6000 00:01&lt;00:00 Sampling chain 1, 0 divergences]\n",
              "    </div>\n",
              "    "
            ]
          },
          "metadata": {}
        },
        {
          "output_type": "stream",
          "name": "stdout",
          "text": [
            "[[-1 -1 -1  1  1  1 -1  1  1 -1]\n",
            " [ 1 -1 -1 -1 -1 -1 -1 -1  1 -1]\n",
            " [-1 -1 -1 -1 -1 -1 -1 -1 -1 -1]\n",
            " [-1 -1 -1 -1  1 -1 -1 -1 -1 -1]\n",
            " [ 1  1 -1  1  1  1  1  1  1  1]\n",
            " [ 1  1  1  1 -1 -1 -1  1 -1 -1]\n",
            " [-1 -1  1  1 -1  1 -1 -1 -1 -1]\n",
            " [-1 -1  1  1  1  1 -1 -1 -1 -1]\n",
            " [-1 -1  1 -1 -1  1 -1 -1 -1  1]\n",
            " [-1  1 -1 -1 -1 -1 -1 -1  1  1]]\n"
          ]
        }
      ]
    },
    {
      "cell_type": "markdown",
      "source": [
        "**Remarks:**\n",
        "\n",
        "Our PyMC3 implementation of Monte-Carlo simulation of the 1-D Ising Chain agrees well with theory and the previous non-probabilistic implementation. Using a PPL results in much cleaner and straight-forward code than implementing the probabilistic model from scratch.\n",
        "\n",
        "Our implementation is also more general, as we consider the extra added term of the Hamiltonian of the interaction of individual spins with an external magnetic field $h=1$, $\\mathscr{H}^{1}_{Ext} = \\sum \\limits^{N-1} \\limits_{i=0} - h\\cdot\\sigma_{i}$, which was absent in the non-PPL implementation in Section 1.\n",
        "\n",
        "We also sees that the above implementation behaves as expected.\n",
        "\n",
        "For an arbitrary **Low Temperature** (T=1), we see that all the spin-values = +1, denoting that all the spins are aligned.\n",
        "\n",
        "For an arbitrary **High Temperature** (T=10), we see that the spin-values are largely random and highly-disordered, switching randomly between -1 and +1.\n",
        "\n",
        "This behaviour is expected and agrees well with theory, and also the previous non-PPL implementation shown in Section 1. At low temperatures, the spins will largely be aligned with the external magnetic field $h$ with spin = +1, as random thermal excitations are too weak and have low probabiility of flipping the spin during the MCMC chain. At high temperatures the stronger thermal fluctuations/excitations lead to high probability of flipping of the spin-flips during the MCMC chain. Hence the spin-flips will be largely disordered and random at the end."
      ],
      "metadata": {
        "id": "9U595mbhHlml"
      }
    },
    {
      "cell_type": "markdown",
      "source": [
        "PyMC3 supports an extensive list of MCMC based samplers: https://www.pymc.io/projects/docs/en/stable/api/samplers.html\n",
        "\n",
        "The user can just change the sampling algorithm in ppl_approach() by swapping the smapling function, without having to rewrite the entire MCMC function froms scratch.\n"
      ],
      "metadata": {
        "id": "QLk90GywxQEz"
      }
    },
    {
      "cell_type": "markdown",
      "source": [
        "# Section 3"
      ],
      "metadata": {
        "id": "M-dACBBqPyx5"
      }
    },
    {
      "cell_type": "markdown",
      "source": [
        "## Further Work"
      ],
      "metadata": {
        "id": "sv1EOPwMPlhY"
      }
    },
    {
      "cell_type": "markdown",
      "source": [
        "Further work to explore the power of the PyMC3 PPL was also briefly explored, such as quantifying the runtime speedup of the PPL vs non-PPL implementation of the Ising model, using the **timeit()** Python module. However given limited manpower/time (as this was a solo project), our results were unconclusive (both showing comparable timings) and would need collection of more data and experiments.\n",
        "\n",
        "Additionally, when testing the PyMC3 implementation, we realised that as the function works by running automatic probailistic inference on at least 2 independent MCMC chains in order to ensure convergence, it was thus doing at least twice the number of MCMC steps versus the non-PPL implementation. Hence our initial runtime tests probably did not evaluate the PPL approach fairly, and more consideration about how to design a fairer runtime comparison test between the non-PPL and PPL approaches is required.\n",
        "\n",
        "However, we hypothesize that due to the highly optimised and vectorised nature of the PyMC3 library, the PPL approach would scale better with data size and be able to show significant runtime speedups. This could be tested by running a fair runtime comparison test between the non-PPL and PPL implementations on a very large 1-D Ising chain, for example one with n_lattice_sites = $10^{3}-10^{5}$, and observe any divergence in runtime scaling."
      ],
      "metadata": {
        "id": "_3DuhKLtPutY"
      }
    },
    {
      "cell_type": "markdown",
      "source": [
        "#References\n",
        "\n",
        "[1] \"One and two-dimensional Ising model\". https://www.thphys.uni-heidelberg.de/~wolschin/statsem21_3s.pdf\n",
        "\n",
        "[2] \"Monte Carlo, 1-D Ising Model\". https://hockygroup.hosting.nyu.edu/exercise/ising-1d.html\n",
        "\n",
        "[3] \"MCMC and the Ising Model\" https://tanyaschlusser.github.io/posts/mcmc-and-the-ising-model/"
      ],
      "metadata": {
        "id": "qVB9IhjxAHGt"
      }
    }
  ]
}